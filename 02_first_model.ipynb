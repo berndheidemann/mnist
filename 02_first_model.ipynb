{
 "cells": [
  {
   "cell_type": "code",
   "execution_count": 166,
   "metadata": {},
   "outputs": [
    {
     "data": {
      "text/plain": [
       "Dataset MNIST\n",
       "    Number of datapoints: 60000\n",
       "    Root location: ./data\n",
       "    Split: Train"
      ]
     },
     "execution_count": 166,
     "metadata": {},
     "output_type": "execute_result"
    }
   ],
   "source": [
    "# load mnist dataset using torch\n",
    "import torchvision.datasets as datasets\n",
    "import matplotlib.pyplot as plt\n",
    "from tqdm.notebook import tqdm\n",
    "\n",
    "mnist_trainset = datasets.MNIST(root='./data', train=True, download=True, transform=None)\n",
    "\n",
    "mnist_trainset"
   ]
  },
  {
   "cell_type": "markdown",
   "metadata": {},
   "source": [
    "## Schritte \n",
    "\n",
    "* Dataset bauen\n",
    "* Modell bauen\n",
    "* Loss-Funktion, Optimizer\n",
    "* Trainingsschleife"
   ]
  },
  {
   "cell_type": "code",
   "execution_count": 167,
   "metadata": {},
   "outputs": [
    {
     "name": "stdout",
     "output_type": "stream",
     "text": [
      "x.shape: torch.Size([784])\n",
      "y: tensor(5)\n"
     ]
    },
    {
     "data": {
      "image/png": "[encoded data removed]",
      "text/plain": [
       "<Figure size 640x480 with 1 Axes>"
      ]
     },
     "metadata": {},
     "output_type": "display_data"
    }
   ],
   "source": [
    "import torch\n",
    "\n",
    "class MyDataset(torch.utils.data.Dataset):\n",
    "    def __init__(self, ds):\n",
    "        self.ds=ds  \n",
    "\n",
    "    def __len__(self):\n",
    "        return len(self.ds)\n",
    "    \n",
    "    def __getitem__(self, idx):\n",
    "        # self.ds ist ein Dataset besteht aus Tupeln (x, y) wobei x jeweils ein PIL-Image ist\n",
    "        x, y=self.ds[idx]\n",
    "        y=torch.tensor(y)\n",
    "\n",
    "\n",
    "        # get values of pil image x\n",
    "        x=torch.tensor(list(x.getdata()), dtype=torch.float32)\n",
    "        x=x/255.0-0.5\n",
    "\n",
    "        # Ziel: x: als Tensor mit 784 Elementen, y: als Tensor mit 1 Element\n",
    "        return x, y\n",
    "    \n",
    "dataset_sample=MyDataset(mnist_trainset)\n",
    "x, y=dataset_sample[0]\n",
    "print(\"x.shape:\", x.shape)          # torch.Size([784])\n",
    "print(\"y:\", y)                      # tensor(5)\n",
    "\n",
    "image=x.reshape(28, 28)\n",
    "plt.imshow(image, cmap='gray')\n",
    "plt.axis('off')\n",
    "plt.show()"
   ]
  },
  {
   "cell_type": "code",
   "execution_count": 168,
   "metadata": {},
   "outputs": [
    {
     "data": {
      "text/plain": [
       "torch.Size([4, 10])"
      ]
     },
     "execution_count": 168,
     "metadata": {},
     "output_type": "execute_result"
    }
   ],
   "source": [
    "class MnistModel(torch.nn.Module):\n",
    "    def __init__(self, hidden_size):\n",
    "        super().__init__()\n",
    "        self.lin1=torch.nn.Linear(784, hidden_size)\n",
    "        self.lin2=torch.nn.Linear(hidden_size, 10)\n",
    "        self.batch_norm=torch.nn.BatchNorm1d(hidden_size)\n",
    "        self.relu=torch.nn.ReLU()\n",
    "        self.softmax=torch.nn.Softmax(dim=1)\n",
    "        \n",
    "    def forward(self, x):\n",
    "        x=self.lin1(x)\n",
    "        x=self.relu(x)\n",
    "        x=self.batch_norm(x)\n",
    "        x=self.lin2(x)\n",
    "        return x\n",
    "    \n",
    "model=MnistModel(100)\n",
    "dataset_sample=MyDataset(mnist_trainset)\n",
    "loader=torch.utils.data.DataLoader(dataset_sample, batch_size=4, shuffle=True)\n",
    "xb, yb=next(iter(loader))\n",
    "\n",
    "model(xb).shape"
   ]
  },
  {
   "cell_type": "code",
   "execution_count": 169,
   "metadata": {},
   "outputs": [],
   "source": [
    "from sklearn.model_selection import train_test_split\n",
    "train_ds, valid_ds = train_test_split(mnist_trainset, test_size=0.2, random_state=42, stratify=mnist_trainset.targets)"
   ]
  },
  {
   "cell_type": "code",
   "execution_count": 170,
   "metadata": {},
   "outputs": [],
   "source": [
    "train_dataset=MyDataset(train_ds)\n",
    "valid_dataset=MyDataset(valid_ds)\n"
   ]
  },
  {
   "cell_type": "code",
   "execution_count": 171,
   "metadata": {},
   "outputs": [
    {
     "data": {
      "application/vnd.jupyter.widget-view+json": {
       "model_id": "185fe424677341888bfd44031a5c2928",
       "version_major": 2,
       "version_minor": 0
      },
      "text/plain": [
       "  0%|          | 0/50 [00:00<?, ?it/s]"
      ]
     },
     "metadata": {},
     "output_type": "display_data"
    },
    {
     "data": {
      "image/png": "[encoded data removed]",
      "text/plain": [
       "<Figure size 640x480 with 1 Axes>"
      ]
     },
     "metadata": {},
     "output_type": "display_data"
    }
   ],
   "source": [
    "lr=0.0001\n",
    "batch_size=256\n",
    "epochs=50\n",
    "hidden_size=20\n",
    "\n",
    "\n",
    "model=MnistModel(hidden_size)\n",
    "optimizer=torch.optim.Adam(model.parameters(), lr=lr, weight_decay=0.0001)\n",
    "loss_func=torch.nn.CrossEntropyLoss()\n",
    "\n",
    "train_loader=torch.utils.data.DataLoader(train_dataset, batch_size=batch_size, shuffle=True)\n",
    "valid_loader=torch.utils.data.DataLoader(valid_dataset, batch_size=batch_size, shuffle=True)\n",
    "\n",
    "losses=[]\n",
    "valid_losses=[]\n",
    "\n",
    "bar=tqdm(range(epochs))\n",
    "for i in bar:\n",
    "    epoch_losses=[]\n",
    "    for xb, yb in train_loader:\n",
    "        optimizer.zero_grad()\n",
    "        pred=model(xb)\n",
    "        loss=loss_func(pred, yb)\n",
    "        loss.backward()\n",
    "        optimizer.step()\n",
    "        epoch_losses.append(loss.item())\n",
    "    losses.append(sum(epoch_losses)/len(epoch_losses))\n",
    "    valid_losses_epoch=[]\n",
    "    with torch.no_grad():\n",
    "        for xb, yb in valid_loader:\n",
    "            pred=model(xb)\n",
    "            loss=loss_func(pred, yb)\n",
    "            valid_losses_epoch.append(loss.item())\n",
    "    valid_losses.append(sum(valid_losses_epoch)/len(valid_losses_epoch))\n",
    "    bar.set_postfix({'train_loss': losses[-1], 'valid_loss': valid_losses[-1]})\n",
    "\n",
    "plt.plot(losses, label='train')\n",
    "plt.plot(valid_losses, label='valid')\n",
    "plt.legend()\n",
    "plt.show()"
   ]
  },
  {
   "cell_type": "code",
   "execution_count": 172,
   "metadata": {},
   "outputs": [
    {
     "name": "stdout",
     "output_type": "stream",
     "text": [
      "Accuracy: 0.942\n"
     ]
    }
   ],
   "source": [
    "correct = 0\n",
    "total = 0\n",
    "\n",
    "with torch.no_grad():\n",
    "    for xb, yb in valid_loader:\n",
    "        pred = model(xb)\n",
    "        _, predicted = torch.max(pred.data, 1)\n",
    "        total += yb.size(0)\n",
    "        correct += (predicted == yb).sum().item()\n",
    "\n",
    "accuracy = correct / total\n",
    "print(\"Accuracy:\", accuracy)\n"
   ]
  },
  {
   "cell_type": "code",
   "execution_count": null,
   "metadata": {},
   "outputs": [],
   "source": []
  }
 ],
 "metadata": {
  "kernelspec": {
   "display_name": "torch_ds",
   "language": "python",
   "name": "python3"
  },
  "language_info": {
   "codemirror_mode": {
    "name": "ipython",
    "version": 3
   },
   "file_extension": ".py",
   "mimetype": "text/x-python",
   "name": "python",
   "nbconvert_exporter": "python",
   "pygments_lexer": "ipython3",
   "version": "3.10.8"
  }
 },
 "nbformat": 4,
 "nbformat_minor": 2
}
